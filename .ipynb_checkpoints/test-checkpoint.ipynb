{
 "cells": [
  {
   "cell_type": "code",
   "execution_count": null,
   "id": "e0b9eae3-bff8-4dbc-921e-3f84fdffb937",
   "metadata": {},
   "outputs": [],
   "source": [
    "!pip install transformers torch pandas accelerate"
   ]
  },
  {
   "cell_type": "code",
   "execution_count": 1,
   "id": "6f2d40e9-702d-4acc-a0ad-2a995b806dc6",
   "metadata": {},
   "outputs": [],
   "source": [
    "from transformers import pipeline\n",
    "import torch\n",
    "import pandas as pd\n",
    "import glob\n",
    "import csv"
   ]
  },
  {
   "cell_type": "code",
   "execution_count": 27,
   "id": "e2d35b78-5275-4ecc-ab83-f19c9ec7f71d",
   "metadata": {},
   "outputs": [
    {
     "data": {
      "text/html": [
       "<div>\n",
       "<style scoped>\n",
       "    .dataframe tbody tr th:only-of-type {\n",
       "        vertical-align: middle;\n",
       "    }\n",
       "\n",
       "    .dataframe tbody tr th {\n",
       "        vertical-align: top;\n",
       "    }\n",
       "\n",
       "    .dataframe thead th {\n",
       "        text-align: right;\n",
       "    }\n",
       "</style>\n",
       "<table border=\"1\" class=\"dataframe\">\n",
       "  <thead>\n",
       "    <tr style=\"text-align: right;\">\n",
       "      <th></th>\n",
       "      <th>name</th>\n",
       "      <th>year</th>\n",
       "      <th>author</th>\n",
       "      <th>genre</th>\n",
       "      <th>text</th>\n",
       "    </tr>\n",
       "  </thead>\n",
       "  <tbody>\n",
       "    <tr>\n",
       "      <th>0</th>\n",
       "      <td>В дороге</td>\n",
       "      <td>1845</td>\n",
       "      <td>Nekrasov</td>\n",
       "      <td>poems</td>\n",
       "      <td>Николай Некрасов\\nВ ДОРОГЕ\\n«Скучно! скучно!.....</td>\n",
       "    </tr>\n",
       "    <tr>\n",
       "      <th>1</th>\n",
       "      <td>Вчерашний день, часу в шестом...</td>\n",
       "      <td>1848</td>\n",
       "      <td>Nekrasov</td>\n",
       "      <td>poems</td>\n",
       "      <td>Николай Некрасов\\n* * *\\nВчерашний день, часу ...</td>\n",
       "    </tr>\n",
       "    <tr>\n",
       "      <th>2</th>\n",
       "      <td>Дедушка</td>\n",
       "      <td>1870</td>\n",
       "      <td>Nekrasov</td>\n",
       "      <td>poems</td>\n",
       "      <td>Николай Некрасов\\nДЕДУШКА\\nПосвящается З-н-ч-е...</td>\n",
       "    </tr>\n",
       "    <tr>\n",
       "      <th>3</th>\n",
       "      <td>Железная дорога</td>\n",
       "      <td>1864</td>\n",
       "      <td>Nekrasov</td>\n",
       "      <td>poems</td>\n",
       "      <td>Николай Некрасов\\nЖЕЛЕЗНАЯ ДОРОГА\\nВаня (в куч...</td>\n",
       "    </tr>\n",
       "    <tr>\n",
       "      <th>4</th>\n",
       "      <td>Кому на Руси жить хорошо</td>\n",
       "      <td>1877</td>\n",
       "      <td>Nekrasov</td>\n",
       "      <td>poems</td>\n",
       "      <td>Николай Некрасов\\nКОМУ НА РУСИ ЖИТЬ ХОРОШО\\nЧА...</td>\n",
       "    </tr>\n",
       "    <tr>\n",
       "      <th>...</th>\n",
       "      <td>...</td>\n",
       "      <td>...</td>\n",
       "      <td>...</td>\n",
       "      <td>...</td>\n",
       "      <td>...</td>\n",
       "    </tr>\n",
       "    <tr>\n",
       "      <th>5</th>\n",
       "      <td>Капитанская дочка</td>\n",
       "      <td>1833-1836</td>\n",
       "      <td>Pushkin</td>\n",
       "      <td>prose</td>\n",
       "      <td>Александр Пушкин\\nКАПИТАНСКАЯ ДОЧКА\\nБереги че...</td>\n",
       "    </tr>\n",
       "    <tr>\n",
       "      <th>6</th>\n",
       "      <td>Кирджали</td>\n",
       "      <td>1834</td>\n",
       "      <td>Pushkin</td>\n",
       "      <td>prose</td>\n",
       "      <td>Александр Пушкин\\nКИРДЖАЛИ\\nПОВЕСТЬ\\nКирджали ...</td>\n",
       "    </tr>\n",
       "    <tr>\n",
       "      <th>7</th>\n",
       "      <td>Пиковая дама</td>\n",
       "      <td>1833</td>\n",
       "      <td>Pushkin</td>\n",
       "      <td>prose</td>\n",
       "      <td>Александр Пушкин\\nПИКОВАЯ ДАМА\\nПиковая дама о...</td>\n",
       "    </tr>\n",
       "    <tr>\n",
       "      <th>8</th>\n",
       "      <td>Повести Белкина</td>\n",
       "      <td>1830</td>\n",
       "      <td>Pushkin</td>\n",
       "      <td>prose</td>\n",
       "      <td>\\nПовести покойного Ивана Петровича Белкина\\n\\...</td>\n",
       "    </tr>\n",
       "    <tr>\n",
       "      <th>9</th>\n",
       "      <td>Рославлев</td>\n",
       "      <td>1831</td>\n",
       "      <td>Pushkin</td>\n",
       "      <td>prose</td>\n",
       "      <td>Александр Пушкин\\nРОСЛАВЛЕВ\\nЧитая «Рославлева...</td>\n",
       "    </tr>\n",
       "  </tbody>\n",
       "</table>\n",
       "<p>349 rows × 5 columns</p>\n",
       "</div>"
      ],
      "text/plain": [
       "                                name       year    author  genre  \\\n",
       "0                           В дороге       1845  Nekrasov  poems   \n",
       "1   Вчерашний день, часу в шестом...       1848  Nekrasov  poems   \n",
       "2                            Дедушка       1870  Nekrasov  poems   \n",
       "3                    Железная дорога       1864  Nekrasov  poems   \n",
       "4           Кому на Руси жить хорошо       1877  Nekrasov  poems   \n",
       "..                               ...        ...       ...    ...   \n",
       "5                  Капитанская дочка  1833-1836   Pushkin  prose   \n",
       "6                           Кирджали       1834   Pushkin  prose   \n",
       "7                       Пиковая дама       1833   Pushkin  prose   \n",
       "8                    Повести Белкина       1830   Pushkin  prose   \n",
       "9                          Рославлев       1831   Pushkin  prose   \n",
       "\n",
       "                                                 text  \n",
       "0   Николай Некрасов\\nВ ДОРОГЕ\\n«Скучно! скучно!.....  \n",
       "1   Николай Некрасов\\n* * *\\nВчерашний день, часу ...  \n",
       "2   Николай Некрасов\\nДЕДУШКА\\nПосвящается З-н-ч-е...  \n",
       "3   Николай Некрасов\\nЖЕЛЕЗНАЯ ДОРОГА\\nВаня (в куч...  \n",
       "4   Николай Некрасов\\nКОМУ НА РУСИ ЖИТЬ ХОРОШО\\nЧА...  \n",
       "..                                                ...  \n",
       "5   Александр Пушкин\\nКАПИТАНСКАЯ ДОЧКА\\nБереги че...  \n",
       "6   Александр Пушкин\\nКИРДЖАЛИ\\nПОВЕСТЬ\\nКирджали ...  \n",
       "7   Александр Пушкин\\nПИКОВАЯ ДАМА\\nПиковая дама о...  \n",
       "8   \\nПовести покойного Ивана Петровича Белкина\\n\\...  \n",
       "9   Александр Пушкин\\nРОСЛАВЛЕВ\\nЧитая «Рославлева...  \n",
       "\n",
       "[349 rows x 5 columns]"
      ]
     },
     "execution_count": 27,
     "metadata": {},
     "output_type": "execute_result"
    }
   ],
   "source": [
    "dfs = []\n",
    "\n",
    "def read_file(file):\n",
    "    try:\n",
    "        return open(directory+file+\".txt\", \"r\").read()\n",
    "    except:\n",
    "        return None\n",
    "\n",
    "for info_file in glob.glob(\"RusLit/**/info.csv\", recursive=True):\n",
    "    directory = info_file[:-8]\n",
    "    info = pd.read_csv(info_file, delimiter=';')\n",
    "    info[\"author\"] = directory.split(\"/\")[2]\n",
    "    info[\"genre\"] = directory.split(\"/\")[1]\n",
    "    info[\"text\"] = info[\"name\"].map(read_file)\n",
    "\n",
    "    dfs.append(info)\n",
    "\n",
    "df = pd.concat(dfs)\n",
    "df"
   ]
  },
  {
   "cell_type": "code",
   "execution_count": 38,
   "id": "b5a1333f-d1a3-493a-acad-9f40cc43903c",
   "metadata": {},
   "outputs": [
    {
     "data": {
      "application/vnd.jupyter.widget-view+json": {
       "model_id": "eceac427fb884c778eeb6d76a7230261",
       "version_major": 2,
       "version_minor": 0
      },
      "text/plain": [
       "Loading checkpoint shards:   0%|          | 0/4 [00:00<?, ?it/s]"
      ]
     },
     "metadata": {},
     "output_type": "display_data"
    },
    {
     "name": "stderr",
     "output_type": "stream",
     "text": [
      "Special tokens have been added in the vocabulary, make sure the associated word embeddings are fine-tuned or trained.\n"
     ]
    }
   ],
   "source": [
    "pipe = pipeline(\"text-generation\", model=\"cognitivecomputations/dolphin-2.9-llama3-8b\", model_kwargs={\"torch_dtype\": torch.bfloat16})"
   ]
  },
  {
   "cell_type": "code",
   "execution_count": null,
   "id": "800d50e3-4aa4-4caa-a87f-71cedf2a6fcc",
   "metadata": {},
   "outputs": [],
   "source": [
    "pipe(\"test\")"
   ]
  }
 ],
 "metadata": {
  "kernelspec": {
   "display_name": "Python 3 (ipykernel)",
   "language": "python",
   "name": "python3"
  },
  "language_info": {
   "codemirror_mode": {
    "name": "ipython",
    "version": 3
   },
   "file_extension": ".py",
   "mimetype": "text/x-python",
   "name": "python",
   "nbconvert_exporter": "python",
   "pygments_lexer": "ipython3",
   "version": "3.12.3"
  }
 },
 "nbformat": 4,
 "nbformat_minor": 5
}
