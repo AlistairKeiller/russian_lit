{
 "cells": [
  {
   "cell_type": "code",
   "execution_count": null,
   "id": "e0b9eae3-bff8-4dbc-921e-3f84fdffb937",
   "metadata": {},
   "outputs": [],
   "source": [
    "!pip install transformers torch pandas accelerate quanto flash_attn"
   ]
  },
  {
   "cell_type": "code",
   "execution_count": null,
   "id": "6f2d40e9-702d-4acc-a0ad-2a995b806dc6",
   "metadata": {},
   "outputs": [],
   "source": [
    "from transformers import pipeline\n",
    "import torch\n",
    "import pandas as pd\n",
    "import glob\n",
    "import csv"
   ]
  },
  {
   "cell_type": "code",
   "execution_count": null,
   "id": "e2d35b78-5275-4ecc-ab83-f19c9ec7f71d",
   "metadata": {},
   "outputs": [],
   "source": [
    "dfs = []\n",
    "\n",
    "def read_file(file):\n",
    "    try:\n",
    "        return open(directory+file+\".txt\", \"r\").read()\n",
    "    except:\n",
    "        return None\n",
    "\n",
    "for info_file in glob.glob(\"RusLit/**/info.csv\", recursive=True):\n",
    "    try:\n",
    "        directory = info_file[:-8]\n",
    "        info = pd.read_csv(info_file)\n",
    "        info[\"author\"] = directory.split(\"/\")[2]\n",
    "        info[\"genre\"] = directory.split(\"/\")[1]\n",
    "        info[\"text\"] = info[\"name\"].map(read_file)\n",
    "        dfs.append(info)\n",
    "    except:\n",
    "        pass\n",
    "\n",
    "df = pd.concat(dfs, ignore_index=True).dropna()\n",
    "df_small = df[df[\"text\"].str.len() < 16384]\n",
    "df_small"
   ]
  },
  {
   "cell_type": "code",
   "execution_count": 38,
   "id": "b5a1333f-d1a3-493a-acad-9f40cc43903c",
   "metadata": {},
   "outputs": [
    {
     "data": {
      "application/vnd.jupyter.widget-view+json": {
       "model_id": "eceac427fb884c778eeb6d76a7230261",
       "version_major": 2,
       "version_minor": 0
      },
      "text/plain": [
       "Loading checkpoint shards:   0%|          | 0/4 [00:00<?, ?it/s]"
      ]
     },
     "metadata": {},
     "output_type": "display_data"
    },
    {
     "name": "stderr",
     "output_type": "stream",
     "text": [
      "Special tokens have been added in the vocabulary, make sure the associated word embeddings are fine-tuned or trained.\n"
     ]
    }
   ],
   "source": [
    "pipe = pipeline(\"text-generation\", model=\"cognitivecomputations/dolphin-2.9-llama3-8b\", model_kwargs={\"torch_dtype\": torch.bfloat16, \"attn_implementation\": \"flash_attention_2\"}, device_map=\"auto\")"
   ]
  },
  {
   "cell_type": "code",
   "execution_count": null,
   "id": "a86f79a5-b442-406d-a409-4253b6057c6c",
   "metadata": {},
   "outputs": [],
   "source": [
    "generated_texts = pipe(df_small[\"text\"].map(lambda x: x + \"List all potential genres in a comma seperated list:\").to_list(), max_new_tokens=20)"
   ]
  },
  {
   "cell_type": "code",
   "execution_count": null,
   "id": "c3e05cc7-7381-467e-aec6-86902c79edd1",
   "metadata": {},
   "outputs": [],
   "source": [
    "genres = [generated_text[0][\"generated_text\"].split(\"List all potential genres in a comma seperated list:\")[1].split(\", \") for generated_text in generated_texts]"
   ]
  }
 ],
 "metadata": {
  "kernelspec": {
   "display_name": "Python 3 (ipykernel)",
   "language": "python",
   "name": "python3"
  },
  "language_info": {
   "codemirror_mode": {
    "name": "ipython",
    "version": 3
   },
   "file_extension": ".py",
   "mimetype": "text/x-python",
   "name": "python",
   "nbconvert_exporter": "python",
   "pygments_lexer": "ipython3",
   "version": "3.12.3"
  }
 },
 "nbformat": 4,
 "nbformat_minor": 5
}
