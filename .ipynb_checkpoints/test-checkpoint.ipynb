{
 "cells": [
  {
   "cell_type": "code",
   "execution_count": null,
   "id": "e0b9eae3-bff8-4dbc-921e-3f84fdffb937",
   "metadata": {},
   "outputs": [],
   "source": [
    "!pip install transformers torch pandas accelerate quanto flash_attn"
   ]
  },
  {
   "cell_type": "code",
   "execution_count": null,
   "id": "6f2d40e9-702d-4acc-a0ad-2a995b806dc6",
   "metadata": {},
   "outputs": [],
   "source": [
    "from transformers import pipeline\n",
    "import torch\n",
    "import pandas as pd\n",
    "import glob\n",
    "import csv\n",
    "import re\n",
    "import seaborn as sns\n",
    "import matplotlib.pyplot as plt"
   ]
  },
  {
   "cell_type": "code",
   "execution_count": null,
   "id": "e2d35b78-5275-4ecc-ab83-f19c9ec7f71d",
   "metadata": {},
   "outputs": [],
   "source": [
    "dfs = []\n",
    "\n",
    "def read_file(file):\n",
    "    try:\n",
    "        return open(directory+file+\".txt\", \"r\").read()\n",
    "    except:\n",
    "        return None\n",
    "\n",
    "for info_file in glob.glob(\"RusLit/**/info.csv\", recursive=True):\n",
    "    try:\n",
    "        directory = info_file[:-8]\n",
    "        info = pd.read_csv(info_file)\n",
    "        info[\"author\"] = directory.split(\"/\")[2]\n",
    "        info[\"type\"] = directory.split(\"/\")[1]\n",
    "        info[\"text\"] = info[\"name\"].map(read_file)\n",
    "        dfs.append(info)\n",
    "    except:\n",
    "        pass\n",
    "\n",
    "df = pd.concat(dfs, ignore_index=True).dropna()\n",
    "df[\"year\"] = df[\"year\"].astype(str).map(lambda x: x.split(\"-\")[0].split(\".\")[0]).astype(int)\n",
    "df_small = df[df[\"text\"].str.len() < 16384].copy()"
   ]
  },
  {
   "cell_type": "code",
   "execution_count": 38,
   "id": "b5a1333f-d1a3-493a-acad-9f40cc43903c",
   "metadata": {},
   "outputs": [
    {
     "data": {
      "application/vnd.jupyter.widget-view+json": {
       "model_id": "eceac427fb884c778eeb6d76a7230261",
       "version_major": 2,
       "version_minor": 0
      },
      "text/plain": [
       "Loading checkpoint shards:   0%|          | 0/4 [00:00<?, ?it/s]"
      ]
     },
     "metadata": {},
     "output_type": "display_data"
    },
    {
     "name": "stderr",
     "output_type": "stream",
     "text": [
      "Special tokens have been added in the vocabulary, make sure the associated word embeddings are fine-tuned or trained.\n"
     ]
    }
   ],
   "source": [
    "pipe = pipeline(\"text-generation\", model=\"cognitivecomputations/dolphin-2.9-llama3-8b\", model_kwargs={\"torch_dtype\": torch.bfloat16, \"attn_implementation\": \"flash_attention_2\"}, device_map=\"auto\")"
   ]
  },
  {
   "cell_type": "code",
   "execution_count": 2,
   "id": "a86f79a5-b442-406d-a409-4253b6057c6c",
   "metadata": {},
   "outputs": [
    {
     "ename": "NameError",
     "evalue": "name 'pipe' is not defined",
     "output_type": "error",
     "traceback": [
      "\u001b[0;31m---------------------------------------------------------------------------\u001b[0m",
      "\u001b[0;31mNameError\u001b[0m                                 Traceback (most recent call last)",
      "Cell \u001b[0;32mIn[2], line 1\u001b[0m\n\u001b[0;32m----> 1\u001b[0m generated_genres \u001b[38;5;241m=\u001b[39m \u001b[43mpipe\u001b[49m(df_small[\u001b[38;5;124m\"\u001b[39m\u001b[38;5;124mtext\u001b[39m\u001b[38;5;124m\"\u001b[39m]\u001b[38;5;241m.\u001b[39mmap(\u001b[38;5;28;01mlambda\u001b[39;00m x: x \u001b[38;5;241m+\u001b[39m \u001b[38;5;124m\"\u001b[39m\u001b[38;5;124mList all potential genres in a comma seperated list:\u001b[39m\u001b[38;5;124m\"\u001b[39m)\u001b[38;5;241m.\u001b[39mto_list(), max_new_tokens\u001b[38;5;241m=\u001b[39m\u001b[38;5;241m20\u001b[39m)\n\u001b[1;32m      2\u001b[0m genres \u001b[38;5;241m=\u001b[39m [generated_genres[\u001b[38;5;241m0\u001b[39m][\u001b[38;5;124m\"\u001b[39m\u001b[38;5;124mgenerated_text\u001b[39m\u001b[38;5;124m\"\u001b[39m]\u001b[38;5;241m.\u001b[39msplit(\u001b[38;5;124m\"\u001b[39m\u001b[38;5;124mList all potential genres in a comma seperated list:\u001b[39m\u001b[38;5;124m\"\u001b[39m)[\u001b[38;5;241m-\u001b[39m\u001b[38;5;241m1\u001b[39m]\u001b[38;5;241m.\u001b[39mstrip()\u001b[38;5;241m.\u001b[39mlower()\u001b[38;5;241m.\u001b[39msplit(\u001b[38;5;124m\"\u001b[39m\u001b[38;5;124m, \u001b[39m\u001b[38;5;124m\"\u001b[39m) \u001b[38;5;28;01mfor\u001b[39;00m generated_text \u001b[38;5;129;01min\u001b[39;00m generated_texts]\n\u001b[1;32m      3\u001b[0m df_small[\u001b[38;5;124m\"\u001b[39m\u001b[38;5;124mgenres\u001b[39m\u001b[38;5;124m\"\u001b[39m] \u001b[38;5;241m=\u001b[39m genres\n",
      "\u001b[0;31mNameError\u001b[0m: name 'pipe' is not defined"
     ]
    }
   ],
   "source": [
    "generated_genres = pipe(df_small[\"text\"].map(lambda x: x + \"List all potential genres in a comma seperated list:\").to_list(), max_new_tokens=20)\n",
    "df_small[\"genres\"] = [re.sub(r'[^a-z ,]', '', generated_genre[0][\"generated_text\"].split(\"List all potential genres in a comma seperated list:\")[-1].strip().lower()).split(\", \") for generated_genre in generated_genres]"
   ]
  },
  {
   "cell_type": "code",
   "execution_count": null,
   "id": "5568d72c-2fdd-4b94-8ab1-a4e68e5b779a",
   "metadata": {},
   "outputs": [],
   "source": [
    "df_small_explode = df_small.explode('genres')\n",
    "df_small_explode = df_small_explode[df_small_explode['genres'] != \"\"]\n",
    "genre_trends = df_small_explode.groupby(['year', 'genres']).size().unstack(fill_value=0)\n",
    "filtered_genre_trends = genre_trends[genre_trends.sum().sort_values()[-10:].index]\n",
    "percentage_filtered_genre_trends = filtered_genre_trends.divide(filtered_genre_trends.sum(axis=1), axis=0) * 100\n",
    "percentage_filtered_genre_trends.dropna()\n",
    "percentage_filtered_genre_trends = percentage_filtered_genre_trends.reset_index()\n",
    "melted_percentage_filtered_genre_trends = percentage_filtered_genre_trends.melt(id_vars='year', var_name='genre', value_name='popularity')"
   ]
  },
  {
   "cell_type": "code",
   "execution_count": null,
   "id": "7183a57c-c71e-4c59-8cf7-ac194662c173",
   "metadata": {},
   "outputs": [],
   "source": [
    "so.Plot(melted_percentage_filtered_genre_trends, \"year\", \"popularity\", color=\"genre\").add(so.Area(alpha=.7), so.Stack())"
   ]
  }
 ],
 "metadata": {
  "kernelspec": {
   "display_name": "Python 3 (ipykernel)",
   "language": "python",
   "name": "python3"
  },
  "language_info": {
   "codemirror_mode": {
    "name": "ipython",
    "version": 3
   },
   "file_extension": ".py",
   "mimetype": "text/x-python",
   "name": "python",
   "nbconvert_exporter": "python",
   "pygments_lexer": "ipython3",
   "version": "3.12.3"
  }
 },
 "nbformat": 4,
 "nbformat_minor": 5
}
