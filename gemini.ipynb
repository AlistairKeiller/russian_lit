{
 "cells": [
  {
   "cell_type": "code",
   "execution_count": null,
   "id": "14a936d7-6c16-438b-baa1-e27171e25e40",
   "metadata": {},
   "outputs": [
    {
     "name": "stdout",
     "output_type": "stream",
     "text": [
      "Requirement already satisfied: pandas in ./env/lib/python3.12/site-packages (2.2.2)\n",
      "Requirement already satisfied: seaborn in ./env/lib/python3.12/site-packages (0.13.2)\n",
      "Requirement already satisfied: google-cloud-aiplatform in ./env/lib/python3.12/site-packages (1.50.0)\n",
      "Requirement already satisfied: tdqm in ./env/lib/python3.12/site-packages (0.0.1)\n",
      "Requirement already satisfied: google-generativeai in ./env/lib/python3.12/site-packages (0.5.2)\n",
      "Requirement already satisfied: numpy>=1.26.0 in ./env/lib/python3.12/site-packages (from pandas) (1.26.4)\n",
      "Requirement already satisfied: python-dateutil>=2.8.2 in ./env/lib/python3.12/site-packages (from pandas) (2.9.0.post0)\n",
      "Requirement already satisfied: pytz>=2020.1 in ./env/lib/python3.12/site-packages (from pandas) (2024.1)\n",
      "Requirement already satisfied: tzdata>=2022.7 in ./env/lib/python3.12/site-packages (from pandas) (2024.1)\n",
      "Requirement already satisfied: matplotlib!=3.6.1,>=3.4 in ./env/lib/python3.12/site-packages (from seaborn) (3.8.4)\n",
      "Requirement already satisfied: google-api-core!=2.0.*,!=2.1.*,!=2.2.*,!=2.3.*,!=2.4.*,!=2.5.*,!=2.6.*,!=2.7.*,<3.0.0dev,>=1.34.1 in ./env/lib/python3.12/site-packages (from google-api-core[grpc]!=2.0.*,!=2.1.*,!=2.2.*,!=2.3.*,!=2.4.*,!=2.5.*,!=2.6.*,!=2.7.*,<3.0.0dev,>=1.34.1->google-cloud-aiplatform) (2.19.0)\n",
      "Requirement already satisfied: google-auth<3.0.0dev,>=2.14.1 in ./env/lib/python3.12/site-packages (from google-cloud-aiplatform) (2.29.0)\n",
      "Requirement already satisfied: proto-plus<2.0.0dev,>=1.22.0 in ./env/lib/python3.12/site-packages (from google-cloud-aiplatform) (1.23.0)\n",
      "Requirement already satisfied: protobuf!=3.20.0,!=3.20.1,!=4.21.0,!=4.21.1,!=4.21.2,!=4.21.3,!=4.21.4,!=4.21.5,<5.0.0dev,>=3.19.5 in ./env/lib/python3.12/site-packages (from google-cloud-aiplatform) (4.25.3)\n",
      "Requirement already satisfied: packaging>=14.3 in ./env/lib/python3.12/site-packages (from google-cloud-aiplatform) (24.0)\n",
      "Requirement already satisfied: google-cloud-storage<3.0.0dev,>=1.32.0 in ./env/lib/python3.12/site-packages (from google-cloud-aiplatform) (2.16.0)\n",
      "Requirement already satisfied: google-cloud-bigquery!=3.20.0,<4.0.0dev,>=1.15.0 in ./env/lib/python3.12/site-packages (from google-cloud-aiplatform) (3.21.0)\n",
      "Requirement already satisfied: google-cloud-resource-manager<3.0.0dev,>=1.3.3 in ./env/lib/python3.12/site-packages (from google-cloud-aiplatform) (1.12.3)\n",
      "Requirement already satisfied: shapely<3.0.0dev in ./env/lib/python3.12/site-packages (from google-cloud-aiplatform) (2.0.4)\n",
      "Requirement already satisfied: pydantic<3 in ./env/lib/python3.12/site-packages (from google-cloud-aiplatform) (2.7.1)\n",
      "Requirement already satisfied: docstring-parser<1 in ./env/lib/python3.12/site-packages (from google-cloud-aiplatform) (0.16)\n",
      "Requirement already satisfied: tqdm in ./env/lib/python3.12/site-packages (from tdqm) (4.66.4)\n",
      "Requirement already satisfied: google-ai-generativelanguage==0.6.2 in ./env/lib/python3.12/site-packages (from google-generativeai) (0.6.2)\n",
      "Requirement already satisfied: google-api-python-client in ./env/lib/python3.12/site-packages (from google-generativeai) (2.127.0)\n",
      "Requirement already satisfied: typing-extensions in ./env/lib/python3.12/site-packages (from google-generativeai) (4.11.0)\n",
      "Requirement already satisfied: googleapis-common-protos<2.0.dev0,>=1.56.2 in ./env/lib/python3.12/site-packages (from google-api-core!=2.0.*,!=2.1.*,!=2.2.*,!=2.3.*,!=2.4.*,!=2.5.*,!=2.6.*,!=2.7.*,<3.0.0dev,>=1.34.1->google-api-core[grpc]!=2.0.*,!=2.1.*,!=2.2.*,!=2.3.*,!=2.4.*,!=2.5.*,!=2.6.*,!=2.7.*,<3.0.0dev,>=1.34.1->google-cloud-aiplatform) (1.63.0)\n",
      "Requirement already satisfied: requests<3.0.0.dev0,>=2.18.0 in ./env/lib/python3.12/site-packages (from google-api-core!=2.0.*,!=2.1.*,!=2.2.*,!=2.3.*,!=2.4.*,!=2.5.*,!=2.6.*,!=2.7.*,<3.0.0dev,>=1.34.1->google-api-core[grpc]!=2.0.*,!=2.1.*,!=2.2.*,!=2.3.*,!=2.4.*,!=2.5.*,!=2.6.*,!=2.7.*,<3.0.0dev,>=1.34.1->google-cloud-aiplatform) (2.31.0)\n",
      "Requirement already satisfied: grpcio<2.0dev,>=1.33.2 in ./env/lib/python3.12/site-packages (from google-api-core[grpc]!=2.0.*,!=2.1.*,!=2.2.*,!=2.3.*,!=2.4.*,!=2.5.*,!=2.6.*,!=2.7.*,<3.0.0dev,>=1.34.1->google-cloud-aiplatform) (1.63.0)\n",
      "Requirement already satisfied: grpcio-status<2.0.dev0,>=1.33.2 in ./env/lib/python3.12/site-packages (from google-api-core[grpc]!=2.0.*,!=2.1.*,!=2.2.*,!=2.3.*,!=2.4.*,!=2.5.*,!=2.6.*,!=2.7.*,<3.0.0dev,>=1.34.1->google-cloud-aiplatform) (1.62.2)\n",
      "Requirement already satisfied: cachetools<6.0,>=2.0.0 in ./env/lib/python3.12/site-packages (from google-auth<3.0.0dev,>=2.14.1->google-cloud-aiplatform) (5.3.3)\n",
      "Requirement already satisfied: pyasn1-modules>=0.2.1 in ./env/lib/python3.12/site-packages (from google-auth<3.0.0dev,>=2.14.1->google-cloud-aiplatform) (0.4.0)\n",
      "Requirement already satisfied: rsa<5,>=3.1.4 in ./env/lib/python3.12/site-packages (from google-auth<3.0.0dev,>=2.14.1->google-cloud-aiplatform) (4.9)\n",
      "Requirement already satisfied: google-cloud-core<3.0.0dev,>=1.6.0 in ./env/lib/python3.12/site-packages (from google-cloud-bigquery!=3.20.0,<4.0.0dev,>=1.15.0->google-cloud-aiplatform) (2.4.1)\n",
      "Requirement already satisfied: google-resumable-media<3.0dev,>=0.6.0 in ./env/lib/python3.12/site-packages (from google-cloud-bigquery!=3.20.0,<4.0.0dev,>=1.15.0->google-cloud-aiplatform) (2.7.0)\n",
      "Requirement already satisfied: grpc-google-iam-v1<1.0.0dev,>=0.12.4 in ./env/lib/python3.12/site-packages (from google-cloud-resource-manager<3.0.0dev,>=1.3.3->google-cloud-aiplatform) (0.13.0)\n",
      "Requirement already satisfied: google-crc32c<2.0dev,>=1.0 in ./env/lib/python3.12/site-packages (from google-cloud-storage<3.0.0dev,>=1.32.0->google-cloud-aiplatform) (1.5.0)\n",
      "Requirement already satisfied: contourpy>=1.0.1 in ./env/lib/python3.12/site-packages (from matplotlib!=3.6.1,>=3.4->seaborn) (1.2.1)\n",
      "Requirement already satisfied: cycler>=0.10 in ./env/lib/python3.12/site-packages (from matplotlib!=3.6.1,>=3.4->seaborn) (0.12.1)\n",
      "Requirement already satisfied: fonttools>=4.22.0 in ./env/lib/python3.12/site-packages (from matplotlib!=3.6.1,>=3.4->seaborn) (4.51.0)\n",
      "Requirement already satisfied: kiwisolver>=1.3.1 in ./env/lib/python3.12/site-packages (from matplotlib!=3.6.1,>=3.4->seaborn) (1.4.5)\n",
      "Requirement already satisfied: pillow>=8 in ./env/lib/python3.12/site-packages (from matplotlib!=3.6.1,>=3.4->seaborn) (10.3.0)\n",
      "Requirement already satisfied: pyparsing>=2.3.1 in ./env/lib/python3.12/site-packages (from matplotlib!=3.6.1,>=3.4->seaborn) (3.1.2)\n",
      "Requirement already satisfied: annotated-types>=0.4.0 in ./env/lib/python3.12/site-packages (from pydantic<3->google-cloud-aiplatform) (0.6.0)\n",
      "Requirement already satisfied: pydantic-core==2.18.2 in ./env/lib/python3.12/site-packages (from pydantic<3->google-cloud-aiplatform) (2.18.2)\n",
      "Requirement already satisfied: six>=1.5 in ./env/lib/python3.12/site-packages (from python-dateutil>=2.8.2->pandas) (1.16.0)\n",
      "Requirement already satisfied: httplib2<1.dev0,>=0.19.0 in ./env/lib/python3.12/site-packages (from google-api-python-client->google-generativeai) (0.22.0)\n",
      "Requirement already satisfied: google-auth-httplib2<1.0.0,>=0.2.0 in ./env/lib/python3.12/site-packages (from google-api-python-client->google-generativeai) (0.2.0)\n",
      "Requirement already satisfied: uritemplate<5,>=3.0.1 in ./env/lib/python3.12/site-packages (from google-api-python-client->google-generativeai) (4.1.1)\n",
      "Requirement already satisfied: pyasn1<0.7.0,>=0.4.6 in ./env/lib/python3.12/site-packages (from pyasn1-modules>=0.2.1->google-auth<3.0.0dev,>=2.14.1->google-cloud-aiplatform) (0.6.0)\n",
      "Requirement already satisfied: charset-normalizer<4,>=2 in ./env/lib/python3.12/site-packages (from requests<3.0.0.dev0,>=2.18.0->google-api-core!=2.0.*,!=2.1.*,!=2.2.*,!=2.3.*,!=2.4.*,!=2.5.*,!=2.6.*,!=2.7.*,<3.0.0dev,>=1.34.1->google-api-core[grpc]!=2.0.*,!=2.1.*,!=2.2.*,!=2.3.*,!=2.4.*,!=2.5.*,!=2.6.*,!=2.7.*,<3.0.0dev,>=1.34.1->google-cloud-aiplatform) (3.3.2)\n",
      "Requirement already satisfied: idna<4,>=2.5 in ./env/lib/python3.12/site-packages (from requests<3.0.0.dev0,>=2.18.0->google-api-core!=2.0.*,!=2.1.*,!=2.2.*,!=2.3.*,!=2.4.*,!=2.5.*,!=2.6.*,!=2.7.*,<3.0.0dev,>=1.34.1->google-api-core[grpc]!=2.0.*,!=2.1.*,!=2.2.*,!=2.3.*,!=2.4.*,!=2.5.*,!=2.6.*,!=2.7.*,<3.0.0dev,>=1.34.1->google-cloud-aiplatform) (2.10)\n",
      "Requirement already satisfied: urllib3<3,>=1.21.1 in ./env/lib/python3.12/site-packages (from requests<3.0.0.dev0,>=2.18.0->google-api-core!=2.0.*,!=2.1.*,!=2.2.*,!=2.3.*,!=2.4.*,!=2.5.*,!=2.6.*,!=2.7.*,<3.0.0dev,>=1.34.1->google-api-core[grpc]!=2.0.*,!=2.1.*,!=2.2.*,!=2.3.*,!=2.4.*,!=2.5.*,!=2.6.*,!=2.7.*,<3.0.0dev,>=1.34.1->google-cloud-aiplatform) (2.2.1)\n",
      "Requirement already satisfied: certifi>=2017.4.17 in ./env/lib/python3.12/site-packages (from requests<3.0.0.dev0,>=2.18.0->google-api-core!=2.0.*,!=2.1.*,!=2.2.*,!=2.3.*,!=2.4.*,!=2.5.*,!=2.6.*,!=2.7.*,<3.0.0dev,>=1.34.1->google-api-core[grpc]!=2.0.*,!=2.1.*,!=2.2.*,!=2.3.*,!=2.4.*,!=2.5.*,!=2.6.*,!=2.7.*,<3.0.0dev,>=1.34.1->google-cloud-aiplatform) (2024.2.2)\n",
      "Your browser has been opened to visit:\n",
      "\n",
      "    https://accounts.google.com/o/oauth2/auth?response_type=code&client_id=764086051850-6qr4p6gpi6hn506pt8ejuq83di341hur.apps.googleusercontent.com&redirect_uri=http%3A%2F%2Flocalhost%3A8085%2F&scope=openid+https%3A%2F%2Fwww.googleapis.com%2Fauth%2Fuserinfo.email+https%3A%2F%2Fwww.googleapis.com%2Fauth%2Fcloud-platform+https%3A%2F%2Fwww.googleapis.com%2Fauth%2Fsqlservice.login&state=qu9GsNcC8Bo4Kaz5dYxtYfeuuz9yCi&access_type=offline&code_challenge=UTIqOCmNo9J7QyLC_Fk3FKShI0aL3LrOXOVM6SDe6Yc&code_challenge_method=S256\n",
      "\n"
     ]
    }
   ],
   "source": [
    "!pip install pandas seaborn google-cloud-aiplatform tdqm google-generativeai\n",
    "!gcloud auth application-default login"
   ]
  },
  {
   "cell_type": "code",
   "execution_count": 1,
   "id": "204bfdff-92e5-4e70-a7f0-68d5e458cadd",
   "metadata": {},
   "outputs": [],
   "source": [
    "import pandas as pd\n",
    "import glob\n",
    "import csv\n",
    "import re\n",
    "import seaborn as sns\n",
    "import seaborn.objects as so\n",
    "import matplotlib.pyplot as plt\n",
    "import google.generativeai as genai\n",
    "import os\n",
    "import time\n",
    "from tqdm import tqdm\n",
    "import base64\n",
    "import vertexai\n",
    "from vertexai.generative_models import GenerativeModel, Part, FinishReason\n",
    "import vertexai.preview.generative_models as generative_models\n",
    "from google.api_core.exceptions import InternalServerError, ResourceExhausted\n",
    "import json\n",
    "from tqdm.auto import tqdm\n",
    "import re\n",
    "tqdm.pandas()"
   ]
  },
  {
   "cell_type": "code",
   "execution_count": 2,
   "id": "1997c02e-ed33-4b3f-9bfa-83968b6346d7",
   "metadata": {},
   "outputs": [],
   "source": [
    "vertexai.init(project=\"yolo-410704\", location=\"us-central1\")\n",
    "gemini_pro_long = GenerativeModel(\"gemini-1.5-pro-preview-0409\")\n",
    "gemini_pro = GenerativeModel(\"gemini-pro\")"
   ]
  },
  {
   "cell_type": "code",
   "execution_count": 3,
   "id": "66e03ab5-e281-4b36-a290-ebd8ac3a4d02",
   "metadata": {},
   "outputs": [],
   "source": [
    "dfs = []\n",
    "\n",
    "\n",
    "def read_file(file):\n",
    "    try:\n",
    "        return open(directory + file + \".txt\", \"r\").read()\n",
    "    except:\n",
    "        return None\n",
    "\n",
    "\n",
    "for info_file in glob.glob(\"RusLit/**/info.csv\", recursive=True):\n",
    "    try:\n",
    "        directory = info_file[:-8]\n",
    "        info = pd.read_csv(info_file)\n",
    "        info[\"author\"] = directory.split(\"/\")[2]\n",
    "        info[\"type\"] = directory.split(\"/\")[1]\n",
    "        info[\"text\"] = info[\"name\"].map(read_file)\n",
    "        dfs.append(info)\n",
    "    except:\n",
    "        pass\n",
    "\n",
    "df = pd.concat(dfs, ignore_index=True).dropna()\n",
    "df[\"year\"] = (\n",
    "    df[\"year\"].astype(str).map(lambda x: x.split(\"-\")[0].split(\".\")[0]).astype(int)\n",
    ")\n",
    "df = df.dropna()"
   ]
  },
  {
   "cell_type": "code",
   "execution_count": null,
   "id": "ffd68ec0-11f3-4d72-a4e7-779e12493239",
   "metadata": {},
   "outputs": [],
   "source": [
    "# def clean_text(text):\n",
    "#     allowed_pattern = re.compile(r'[\\u0041-\\u005A\\u0061-\\u007A\\u0410-\\u044F\\s`~\\-_=+\\[{\\]}\\\\|;:\\'\",<.>/?]+')\n",
    "#     return ''.join(allowed_pattern.findall(text))\n",
    "\n",
    "# df[\"clean_name\"] = df[\"name\"].apply(clean_text)\n",
    "# df[\"clean_text\"] = df[\"text\"].apply(clean_text)"
   ]
  },
  {
   "cell_type": "code",
   "execution_count": 4,
   "id": "63fb43bb-3cfd-489b-a486-35cdb56ab508",
   "metadata": {},
   "outputs": [
    {
     "data": {
      "application/vnd.jupyter.widget-view+json": {
       "model_id": "dfdb4f146bb8401589f55a1af9655ac5",
       "version_major": 2,
       "version_minor": 0
      },
      "text/plain": [
       "  0%|          | 0/68 [00:00<?, ?it/s]"
      ]
     },
     "metadata": {},
     "output_type": "display_data"
    },
    {
     "name": "stderr",
     "output_type": "stream",
     "text": [
      "/Users/alistairkeiller/russian_lit/env/lib/python3.12/site-packages/google/auth/_default.py:76: UserWarning: Your application has authenticated using end user credentials from Google Cloud SDK without a quota project. You might receive a \"quota exceeded\" or \"API not enabled\" error. See the following page for troubleshooting: https://cloud.google.com/docs/authentication/adc-troubleshooting/user-creds. \n",
      "  warnings.warn(_CLOUD_SDK_CREDENTIALS_WARNING)\n"
     ]
    },
    {
     "name": "stdout",
     "output_type": "stream",
     "text": [
      "400 Unable to submit request because the input token count is 36039 but model only supports up to 32766. Reduce the input token count and try again. You can also use the CountTokens API to calculate prompt token count and billable characters. Learn more: https://cloud.google.com/vertex-ai/generative-ai/docs/learn/models\n",
      "400 Unable to submit request because the input token count is 521268 but model only supports up to 32766. Reduce the input token count and try again. You can also use the CountTokens API to calculate prompt token count and billable characters. Learn more: https://cloud.google.com/vertex-ai/generative-ai/docs/learn/models\n",
      "400 Unable to submit request because the input token count is 257345 but model only supports up to 32766. Reduce the input token count and try again. You can also use the CountTokens API to calculate prompt token count and billable characters. Learn more: https://cloud.google.com/vertex-ai/generative-ai/docs/learn/models\n",
      "400 Unable to submit request because the input token count is 266182 but model only supports up to 32766. Reduce the input token count and try again. You can also use the CountTokens API to calculate prompt token count and billable characters. Learn more: https://cloud.google.com/vertex-ai/generative-ai/docs/learn/models\n",
      "400 Unable to submit request because the input token count is 281040 but model only supports up to 32766. Reduce the input token count and try again. You can also use the CountTokens API to calculate prompt token count and billable characters. Learn more: https://cloud.google.com/vertex-ai/generative-ai/docs/learn/models\n",
      "400 Unable to submit request because the input token count is 261262 but model only supports up to 32766. Reduce the input token count and try again. You can also use the CountTokens API to calculate prompt token count and billable characters. Learn more: https://cloud.google.com/vertex-ai/generative-ai/docs/learn/models\n",
      "400 Unable to submit request because the input token count is 269172 but model only supports up to 32766. Reduce the input token count and try again. You can also use the CountTokens API to calculate prompt token count and billable characters. Learn more: https://cloud.google.com/vertex-ai/generative-ai/docs/learn/models\n",
      "400 Unable to submit request because the input token count is 34105 but model only supports up to 32766. Reduce the input token count and try again. You can also use the CountTokens API to calculate prompt token count and billable characters. Learn more: https://cloud.google.com/vertex-ai/generative-ai/docs/learn/models\n",
      "400 Unable to submit request because the input token count is 56808 but model only supports up to 32766. Reduce the input token count and try again. You can also use the CountTokens API to calculate prompt token count and billable characters. Learn more: https://cloud.google.com/vertex-ai/generative-ai/docs/learn/models\n",
      "400 Unable to submit request because the input token count is 92162 but model only supports up to 32766. Reduce the input token count and try again. You can also use the CountTokens API to calculate prompt token count and billable characters. Learn more: https://cloud.google.com/vertex-ai/generative-ai/docs/learn/models\n",
      "400 Unable to submit request because the input token count is 44707 but model only supports up to 32766. Reduce the input token count and try again. You can also use the CountTokens API to calculate prompt token count and billable characters. Learn more: https://cloud.google.com/vertex-ai/generative-ai/docs/learn/models\n",
      "400 Unable to submit request because the input token count is 43726 but model only supports up to 32766. Reduce the input token count and try again. You can also use the CountTokens API to calculate prompt token count and billable characters. Learn more: https://cloud.google.com/vertex-ai/generative-ai/docs/learn/models\n",
      "400 Unable to submit request because the input token count is 33679 but model only supports up to 32766. Reduce the input token count and try again. You can also use the CountTokens API to calculate prompt token count and billable characters. Learn more: https://cloud.google.com/vertex-ai/generative-ai/docs/learn/models\n",
      "400 Unable to submit request because the input token count is 36698 but model only supports up to 32766. Reduce the input token count and try again. You can also use the CountTokens API to calculate prompt token count and billable characters. Learn more: https://cloud.google.com/vertex-ai/generative-ai/docs/learn/models\n",
      "400 Unable to submit request because the input token count is 47897 but model only supports up to 32766. Reduce the input token count and try again. You can also use the CountTokens API to calculate prompt token count and billable characters. Learn more: https://cloud.google.com/vertex-ai/generative-ai/docs/learn/models\n",
      "400 Unable to submit request because the input token count is 71350 but model only supports up to 32766. Reduce the input token count and try again. You can also use the CountTokens API to calculate prompt token count and billable characters. Learn more: https://cloud.google.com/vertex-ai/generative-ai/docs/learn/models\n",
      "400 Unable to submit request because the input token count is 35204 but model only supports up to 32766. Reduce the input token count and try again. You can also use the CountTokens API to calculate prompt token count and billable characters. Learn more: https://cloud.google.com/vertex-ai/generative-ai/docs/learn/models\n",
      "400 Unable to submit request because the input token count is 90074 but model only supports up to 32766. Reduce the input token count and try again. You can also use the CountTokens API to calculate prompt token count and billable characters. Learn more: https://cloud.google.com/vertex-ai/generative-ai/docs/learn/models\n"
     ]
    },
    {
     "name": "stderr",
     "output_type": "stream",
     "text": [
      "/var/folders/k6/ysy9mpp90lq6zhz2s2qvv23r0000gn/T/ipykernel_57626/2525371520.py:10: SettingWithCopyWarning: \n",
      "A value is trying to be set on a copy of a slice from a DataFrame.\n",
      "Try using .loc[row_indexer,col_indexer] = value instead\n",
      "\n",
      "See the caveats in the documentation: https://pandas.pydata.org/pandas-docs/stable/user_guide/indexing.html#returning-a-view-versus-a-copy\n",
      "  df_tolstoy[\"generate\"] = df_tolstoy[\"text\"].progress_apply(try_generate)\n"
     ]
    }
   ],
   "source": [
    "def try_generate(text):\n",
    "    try:\n",
    "        text = gemini_pro.generate_content(text).candidates[0].content.parts[0].text\n",
    "        return True\n",
    "    except Exception as error:\n",
    "        print(error)\n",
    "        return False\n",
    "\n",
    "df_tolstoy = df[df[\"author\"] == \"Tolstoy\"]\n",
    "df_tolstoy[\"generate\"] = df_tolstoy[\"text\"].progress_apply(try_generate)\n",
    "df_tolstoy = df_tolstoy[df_tolstoy[\"generate\"] == True]"
   ]
  },
  {
   "cell_type": "code",
   "execution_count": 5,
   "id": "28c06013-b091-48de-9757-7b78762cf71c",
   "metadata": {},
   "outputs": [],
   "source": [
    "records = df_tolstoy[[\"name\", \"text\"]].to_dict(orient='records')\n",
    "custom_dict = {record['name']: record['text'] for record in records}\n",
    "\n",
    "with open('text.json', 'w') as file:\n",
    "    json.dump(custom_dict, file)"
   ]
  },
  {
   "cell_type": "code",
   "execution_count": null,
   "id": "41f10e69-a59b-4e20-993a-a188667fac63",
   "metadata": {},
   "outputs": [],
   "source": [
    "retry_limit = 5\n",
    "\n",
    "\n",
    "def get_genres(text, name):\n",
    "    try:\n",
    "        for attempt in range(retry_limit):\n",
    "            try:\n",
    "                return (\n",
    "                    gemini_pro_long.generate_content(\n",
    "                        text\n",
    "                        + \"Please provide a comma-separated list of single-word genres that best describe the text above: \"\n",
    "                    )\n",
    "                    .candidates[0]\n",
    "                    .content.parts[0]\n",
    "                    .text\n",
    "                )\n",
    "            except ResourceExhausted:\n",
    "                time.sleep(60)\n",
    "    except InternalServerError:\n",
    "        print(f\"InternalServerError on {name} text\")\n",
    "    except IndexError:\n",
    "        print(f\"IndexError on {name} text\")\n",
    "    for attempt in range(retry_limit):\n",
    "        try:\n",
    "            return (\n",
    "                gemini_pro_long.generate_content(\n",
    "                    name\n",
    "                    + \"Please provide a comma-separated list of single-word genres that best describe the text above: \"\n",
    "                )\n",
    "                .candidates[0]\n",
    "                .content.parts[0]\n",
    "                .text\n",
    "            )\n",
    "        except ResourceExhausted:\n",
    "            time.sleep(60)\n",
    "    print(f\"failed on {name}\")\n",
    "    return None\n",
    "\n",
    "\n",
    "try:\n",
    "    df = pd.read_csv(\"gemini.csv\")\n",
    "except:\n",
    "    df[\"genres\"] = [\n",
    "        get_genres(text, title)\n",
    "        for text, title in tqdm(zip(df[\"text\"], df[\"name\"]), desc=\"Generating genres\")\n",
    "    ]\n",
    "    df.to_csv(\"gemini.csv\", index=False)"
   ]
  },
  {
   "cell_type": "code",
   "execution_count": null,
   "id": "c24149e7-da25-4cf6-b711-6de06c499e5d",
   "metadata": {},
   "outputs": [],
   "source": [
    "df = df.dropna()\n",
    "df[\"genres\"] = df[\"genres\"].map(lambda x: x.strip().lower().split(\", \"))"
   ]
  },
  {
   "cell_type": "code",
   "execution_count": null,
   "id": "c85564e2-e453-4c6d-98bc-0ee41fbeaf4b",
   "metadata": {},
   "outputs": [],
   "source": [
    "df_explode = df.explode(\"genres\")\n",
    "df_explode = df_explode[df_explode[\"genres\"] != \"\"]\n",
    "genre_trends = df_explode.groupby([\"year\", \"genres\"]).size().unstack(fill_value=0)\n",
    "filtered_genre_trends = genre_trends[genre_trends.sum().sort_values()[-10:].index]\n",
    "percentage_filtered_genre_trends = (\n",
    "    filtered_genre_trends.divide(filtered_genre_trends.sum(axis=1), axis=0) * 100\n",
    ")\n",
    "percentage_filtered_genre_trends.dropna()\n",
    "percentage_filtered_genre_trends = percentage_filtered_genre_trends.reset_index()\n",
    "melted_percentage_filtered_genre_trends = percentage_filtered_genre_trends.melt(\n",
    "    id_vars=\"year\", var_name=\"genre\", value_name=\"popularity\"\n",
    ")"
   ]
  },
  {
   "cell_type": "code",
   "execution_count": null,
   "id": "6169f510-454b-499b-9706-042e1beacc31",
   "metadata": {},
   "outputs": [],
   "source": [
    "so.Plot(\n",
    "    melted_percentage_filtered_genre_trends, \"year\", \"popularity\", color=\"genre\"\n",
    ").add(so.Area(alpha=0.7), so.Stack())"
   ]
  },
  {
   "cell_type": "code",
   "execution_count": null,
   "id": "fd64bd38-368a-4e60-8a5e-183f562727c1",
   "metadata": {},
   "outputs": [],
   "source": [
    "window_size = 7\n",
    "\n",
    "melted_percentage_filtered_genre_trends[\"popularity_smoothed\"] = (\n",
    "    melted_percentage_filtered_genre_trends.groupby(\"genre\")[\"popularity\"].transform(\n",
    "        lambda x: x.rolling(window=window_size, center=True).mean()\n",
    "    )\n",
    ")\n",
    "\n",
    "so.Plot(\n",
    "    melted_percentage_filtered_genre_trends,\n",
    "    \"year\",\n",
    "    \"popularity_smoothed\",\n",
    "    color=\"genre\",\n",
    ").add(so.Area(alpha=0.7), so.Stack()).layout(size=(16, 9)).save(\n",
    "    \"gemini.png\", bbox_inches=\"tight\"\n",
    ")"
   ]
  },
  {
   "cell_type": "code",
   "execution_count": null,
   "id": "1c7ae00a-cd89-4a9d-9bf4-a77eeffb7e91",
   "metadata": {},
   "outputs": [],
   "source": [
    "# gemini_pro_long.generate_content(\n",
    "#     \"\\\"The play portrays the visit of an elderly professor and his glamorous, much younger second wife, Yelena, to the rural estate that supports their urban lifestyle. Two friends—Vanya, brother of the professor's late first wife, who has long managed the estate, and Astrov, the local doctor—both fall under Yelena's spell while bemoaning the ennui of their provincial existence. Sonya, the professor's daughter by his first wife, who has worked with Vanya to keep the estate going, suffers from her unrequited feelings for Astrov. Matters are brought to a crisis when the professor announces his intention to sell the estate, Vanya and Sonya's home, with a view to investing the proceeds to achieve a higher income for himself and his wife.\\\"\\nRepeat each sentance with a catigorization after: horror short story humor social commentary satire fiction historical tragedy romance drama\"\n",
    "# ).candidates[0].content.parts[0].text"
   ]
  },
  {
   "cell_type": "code",
   "execution_count": null,
   "id": "2f0471b2-a2d0-46bb-87c0-af6b473e1dd2",
   "metadata": {},
   "outputs": [],
   "source": [
    "# gemini_pro_long.generate_content(\n",
    "#     \"\\\"The play portrays the visit of an elderly professor and his glamorous, much younger second wife, Yelena, to the rural estate that supports their urban lifestyle. Two friends—Vanya, brother of the professor's late first wife, who has long managed the estate, and Astrov, the local doctor—both fall under Yelena's spell while bemoaning the ennui of their provincial existence. Sonya, the professor's daughter by his first wife, who has worked with Vanya to keep the estate going, suffers from her unrequited feelings for Astrov. Matters are brought to a crisis when the professor announces his intention to sell the estate, Vanya and Sonya's home, with a view to investing the proceeds to achieve a higher income for himself and his wife.\\\"\\nRewrite the abstract like Uncle Vanya was a political commentary satire of Russia in 1870:\"\n",
    "# ).candidates[0].content.parts[0].text"
   ]
  }
 ],
 "metadata": {
  "kernelspec": {
   "display_name": "Python 3 (ipykernel)",
   "language": "python",
   "name": "python3"
  },
  "language_info": {
   "codemirror_mode": {
    "name": "ipython",
    "version": 3
   },
   "file_extension": ".py",
   "mimetype": "text/x-python",
   "name": "python",
   "nbconvert_exporter": "python",
   "pygments_lexer": "ipython3",
   "version": "3.12.3"
  }
 },
 "nbformat": 4,
 "nbformat_minor": 5
}
