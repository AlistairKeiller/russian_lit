{
 "cells": [
  {
   "cell_type": "code",
   "execution_count": 13,
   "id": "14a936d7-6c16-438b-baa1-e27171e25e40",
   "metadata": {},
   "outputs": [
    {
     "name": "stdout",
     "output_type": "stream",
     "text": [
      "Requirement already satisfied: pandas in ./env/lib/python3.12/site-packages (2.2.2)\n",
      "Requirement already satisfied: seaborn in ./env/lib/python3.12/site-packages (0.13.2)\n",
      "Requirement already satisfied: google-cloud-aiplatform in ./env/lib/python3.12/site-packages (1.50.0)\n",
      "Requirement already satisfied: tdqm in ./env/lib/python3.12/site-packages (0.0.1)\n",
      "Requirement already satisfied: google-generativeai in ./env/lib/python3.12/site-packages (0.5.2)\n",
      "Collecting tiktoken\n",
      "  Downloading tiktoken-0.6.0-cp312-cp312-macosx_11_0_arm64.whl.metadata (6.6 kB)\n",
      "Requirement already satisfied: numpy>=1.26.0 in ./env/lib/python3.12/site-packages (from pandas) (1.26.4)\n",
      "Requirement already satisfied: python-dateutil>=2.8.2 in ./env/lib/python3.12/site-packages (from pandas) (2.9.0.post0)\n",
      "Requirement already satisfied: pytz>=2020.1 in ./env/lib/python3.12/site-packages (from pandas) (2024.1)\n",
      "Requirement already satisfied: tzdata>=2022.7 in ./env/lib/python3.12/site-packages (from pandas) (2024.1)\n",
      "Requirement already satisfied: matplotlib!=3.6.1,>=3.4 in ./env/lib/python3.12/site-packages (from seaborn) (3.8.4)\n",
      "Requirement already satisfied: google-api-core!=2.0.*,!=2.1.*,!=2.2.*,!=2.3.*,!=2.4.*,!=2.5.*,!=2.6.*,!=2.7.*,<3.0.0dev,>=1.34.1 in ./env/lib/python3.12/site-packages (from google-api-core[grpc]!=2.0.*,!=2.1.*,!=2.2.*,!=2.3.*,!=2.4.*,!=2.5.*,!=2.6.*,!=2.7.*,<3.0.0dev,>=1.34.1->google-cloud-aiplatform) (2.19.0)\n",
      "Requirement already satisfied: google-auth<3.0.0dev,>=2.14.1 in ./env/lib/python3.12/site-packages (from google-cloud-aiplatform) (2.29.0)\n",
      "Requirement already satisfied: proto-plus<2.0.0dev,>=1.22.0 in ./env/lib/python3.12/site-packages (from google-cloud-aiplatform) (1.23.0)\n",
      "Requirement already satisfied: protobuf!=3.20.0,!=3.20.1,!=4.21.0,!=4.21.1,!=4.21.2,!=4.21.3,!=4.21.4,!=4.21.5,<5.0.0dev,>=3.19.5 in ./env/lib/python3.12/site-packages (from google-cloud-aiplatform) (4.25.3)\n",
      "Requirement already satisfied: packaging>=14.3 in ./env/lib/python3.12/site-packages (from google-cloud-aiplatform) (24.0)\n",
      "Requirement already satisfied: google-cloud-storage<3.0.0dev,>=1.32.0 in ./env/lib/python3.12/site-packages (from google-cloud-aiplatform) (2.16.0)\n",
      "Requirement already satisfied: google-cloud-bigquery!=3.20.0,<4.0.0dev,>=1.15.0 in ./env/lib/python3.12/site-packages (from google-cloud-aiplatform) (3.21.0)\n",
      "Requirement already satisfied: google-cloud-resource-manager<3.0.0dev,>=1.3.3 in ./env/lib/python3.12/site-packages (from google-cloud-aiplatform) (1.12.3)\n",
      "Requirement already satisfied: shapely<3.0.0dev in ./env/lib/python3.12/site-packages (from google-cloud-aiplatform) (2.0.4)\n",
      "Requirement already satisfied: pydantic<3 in ./env/lib/python3.12/site-packages (from google-cloud-aiplatform) (2.7.1)\n",
      "Requirement already satisfied: docstring-parser<1 in ./env/lib/python3.12/site-packages (from google-cloud-aiplatform) (0.16)\n",
      "Requirement already satisfied: tqdm in ./env/lib/python3.12/site-packages (from tdqm) (4.66.4)\n",
      "Requirement already satisfied: google-ai-generativelanguage==0.6.2 in ./env/lib/python3.12/site-packages (from google-generativeai) (0.6.2)\n",
      "Requirement already satisfied: google-api-python-client in ./env/lib/python3.12/site-packages (from google-generativeai) (2.127.0)\n",
      "Requirement already satisfied: typing-extensions in ./env/lib/python3.12/site-packages (from google-generativeai) (4.11.0)\n",
      "Collecting regex>=2022.1.18 (from tiktoken)\n",
      "  Downloading regex-2024.4.28-cp312-cp312-macosx_11_0_arm64.whl.metadata (40 kB)\n",
      "\u001b[2K     \u001b[38;2;114;156;31m━━━━━━━━━━━━━━━━━━━━━━━━━━━━━━━━━━━━━━━━\u001b[0m \u001b[32m40.8/40.8 kB\u001b[0m \u001b[31m3.0 MB/s\u001b[0m eta \u001b[36m0:00:00\u001b[0m\n",
      "\u001b[?25hRequirement already satisfied: requests>=2.26.0 in ./env/lib/python3.12/site-packages (from tiktoken) (2.31.0)\n",
      "Requirement already satisfied: googleapis-common-protos<2.0.dev0,>=1.56.2 in ./env/lib/python3.12/site-packages (from google-api-core!=2.0.*,!=2.1.*,!=2.2.*,!=2.3.*,!=2.4.*,!=2.5.*,!=2.6.*,!=2.7.*,<3.0.0dev,>=1.34.1->google-api-core[grpc]!=2.0.*,!=2.1.*,!=2.2.*,!=2.3.*,!=2.4.*,!=2.5.*,!=2.6.*,!=2.7.*,<3.0.0dev,>=1.34.1->google-cloud-aiplatform) (1.63.0)\n",
      "Requirement already satisfied: grpcio<2.0dev,>=1.33.2 in ./env/lib/python3.12/site-packages (from google-api-core[grpc]!=2.0.*,!=2.1.*,!=2.2.*,!=2.3.*,!=2.4.*,!=2.5.*,!=2.6.*,!=2.7.*,<3.0.0dev,>=1.34.1->google-cloud-aiplatform) (1.63.0)\n",
      "Requirement already satisfied: grpcio-status<2.0.dev0,>=1.33.2 in ./env/lib/python3.12/site-packages (from google-api-core[grpc]!=2.0.*,!=2.1.*,!=2.2.*,!=2.3.*,!=2.4.*,!=2.5.*,!=2.6.*,!=2.7.*,<3.0.0dev,>=1.34.1->google-cloud-aiplatform) (1.62.2)\n",
      "Requirement already satisfied: cachetools<6.0,>=2.0.0 in ./env/lib/python3.12/site-packages (from google-auth<3.0.0dev,>=2.14.1->google-cloud-aiplatform) (5.3.3)\n",
      "Requirement already satisfied: pyasn1-modules>=0.2.1 in ./env/lib/python3.12/site-packages (from google-auth<3.0.0dev,>=2.14.1->google-cloud-aiplatform) (0.4.0)\n",
      "Requirement already satisfied: rsa<5,>=3.1.4 in ./env/lib/python3.12/site-packages (from google-auth<3.0.0dev,>=2.14.1->google-cloud-aiplatform) (4.9)\n",
      "Requirement already satisfied: google-cloud-core<3.0.0dev,>=1.6.0 in ./env/lib/python3.12/site-packages (from google-cloud-bigquery!=3.20.0,<4.0.0dev,>=1.15.0->google-cloud-aiplatform) (2.4.1)\n",
      "Requirement already satisfied: google-resumable-media<3.0dev,>=0.6.0 in ./env/lib/python3.12/site-packages (from google-cloud-bigquery!=3.20.0,<4.0.0dev,>=1.15.0->google-cloud-aiplatform) (2.7.0)\n",
      "Requirement already satisfied: grpc-google-iam-v1<1.0.0dev,>=0.12.4 in ./env/lib/python3.12/site-packages (from google-cloud-resource-manager<3.0.0dev,>=1.3.3->google-cloud-aiplatform) (0.13.0)\n",
      "Requirement already satisfied: google-crc32c<2.0dev,>=1.0 in ./env/lib/python3.12/site-packages (from google-cloud-storage<3.0.0dev,>=1.32.0->google-cloud-aiplatform) (1.5.0)\n",
      "Requirement already satisfied: contourpy>=1.0.1 in ./env/lib/python3.12/site-packages (from matplotlib!=3.6.1,>=3.4->seaborn) (1.2.1)\n",
      "Requirement already satisfied: cycler>=0.10 in ./env/lib/python3.12/site-packages (from matplotlib!=3.6.1,>=3.4->seaborn) (0.12.1)\n",
      "Requirement already satisfied: fonttools>=4.22.0 in ./env/lib/python3.12/site-packages (from matplotlib!=3.6.1,>=3.4->seaborn) (4.51.0)\n",
      "Requirement already satisfied: kiwisolver>=1.3.1 in ./env/lib/python3.12/site-packages (from matplotlib!=3.6.1,>=3.4->seaborn) (1.4.5)\n",
      "Requirement already satisfied: pillow>=8 in ./env/lib/python3.12/site-packages (from matplotlib!=3.6.1,>=3.4->seaborn) (10.3.0)\n",
      "Requirement already satisfied: pyparsing>=2.3.1 in ./env/lib/python3.12/site-packages (from matplotlib!=3.6.1,>=3.4->seaborn) (3.1.2)\n",
      "Requirement already satisfied: annotated-types>=0.4.0 in ./env/lib/python3.12/site-packages (from pydantic<3->google-cloud-aiplatform) (0.6.0)\n",
      "Requirement already satisfied: pydantic-core==2.18.2 in ./env/lib/python3.12/site-packages (from pydantic<3->google-cloud-aiplatform) (2.18.2)\n",
      "Requirement already satisfied: six>=1.5 in ./env/lib/python3.12/site-packages (from python-dateutil>=2.8.2->pandas) (1.16.0)\n",
      "Requirement already satisfied: charset-normalizer<4,>=2 in ./env/lib/python3.12/site-packages (from requests>=2.26.0->tiktoken) (3.3.2)\n",
      "Requirement already satisfied: idna<4,>=2.5 in ./env/lib/python3.12/site-packages (from requests>=2.26.0->tiktoken) (2.10)\n",
      "Requirement already satisfied: urllib3<3,>=1.21.1 in ./env/lib/python3.12/site-packages (from requests>=2.26.0->tiktoken) (2.2.1)\n",
      "Requirement already satisfied: certifi>=2017.4.17 in ./env/lib/python3.12/site-packages (from requests>=2.26.0->tiktoken) (2024.2.2)\n",
      "Requirement already satisfied: httplib2<1.dev0,>=0.19.0 in ./env/lib/python3.12/site-packages (from google-api-python-client->google-generativeai) (0.22.0)\n",
      "Requirement already satisfied: google-auth-httplib2<1.0.0,>=0.2.0 in ./env/lib/python3.12/site-packages (from google-api-python-client->google-generativeai) (0.2.0)\n",
      "Requirement already satisfied: uritemplate<5,>=3.0.1 in ./env/lib/python3.12/site-packages (from google-api-python-client->google-generativeai) (4.1.1)\n",
      "Requirement already satisfied: pyasn1<0.7.0,>=0.4.6 in ./env/lib/python3.12/site-packages (from pyasn1-modules>=0.2.1->google-auth<3.0.0dev,>=2.14.1->google-cloud-aiplatform) (0.6.0)\n",
      "Downloading tiktoken-0.6.0-cp312-cp312-macosx_11_0_arm64.whl (922 kB)\n",
      "\u001b[2K   \u001b[38;2;114;156;31m━━━━━━━━━━━━━━━━━━━━━━━━━━━━━━━━━━━━━━━━\u001b[0m \u001b[32m922.4/922.4 kB\u001b[0m \u001b[31m20.4 MB/s\u001b[0m eta \u001b[36m0:00:00\u001b[0m MB/s\u001b[0m eta \u001b[36m0:00:01\u001b[0m\n",
      "\u001b[?25hDownloading regex-2024.4.28-cp312-cp312-macosx_11_0_arm64.whl (278 kB)\n",
      "\u001b[2K   \u001b[38;2;114;156;31m━━━━━━━━━━━━━━━━━━━━━━━━━━━━━━━━━━━━━━━━\u001b[0m \u001b[32m278.5/278.5 kB\u001b[0m \u001b[31m32.1 MB/s\u001b[0m eta \u001b[36m0:00:00\u001b[0m\n",
      "\u001b[?25hInstalling collected packages: regex, tiktoken\n",
      "Successfully installed regex-2024.4.28 tiktoken-0.6.0\n",
      "Your browser has been opened to visit:\n",
      "\n",
      "    https://accounts.google.com/o/oauth2/auth?response_type=code&client_id=764086051850-6qr4p6gpi6hn506pt8ejuq83di341hur.apps.googleusercontent.com&redirect_uri=http%3A%2F%2Flocalhost%3A8085%2F&scope=openid+https%3A%2F%2Fwww.googleapis.com%2Fauth%2Fuserinfo.email+https%3A%2F%2Fwww.googleapis.com%2Fauth%2Fcloud-platform+https%3A%2F%2Fwww.googleapis.com%2Fauth%2Fsqlservice.login&state=Bs179MEg0h0qTVQqaPCPsWcQmthNFc&access_type=offline&code_challenge=Ib7iVqMFFRJKWQGySAUcFTUlox-fjKGfdFld4FalX0A&code_challenge_method=S256\n",
      "\n",
      "\n",
      "Credentials saved to file: [/Users/alistairkeiller/.config/gcloud/application_default_credentials.json]\n",
      "\n",
      "These credentials will be used by any library that requests Application Default Credentials (ADC).\n",
      "\u001b[1;33mWARNING:\u001b[0m \n",
      "Cannot find a quota project to add to ADC. You might receive a \"quota exceeded\" or \"API not enabled\" error. Run $ gcloud auth application-default set-quota-project to add a quota project.\n"
     ]
    }
   ],
   "source": [
    "!pip install pandas seaborn google-cloud-aiplatform tdqm google-generativeai tiktoken\n",
    "!gcloud auth application-default login"
   ]
  },
  {
   "cell_type": "code",
   "execution_count": 15,
   "id": "204bfdff-92e5-4e70-a7f0-68d5e458cadd",
   "metadata": {},
   "outputs": [],
   "source": [
    "import pandas as pd\n",
    "import glob\n",
    "import csv\n",
    "import re\n",
    "import seaborn as sns\n",
    "import seaborn.objects as so\n",
    "import matplotlib.pyplot as plt\n",
    "import google.generativeai as genai\n",
    "import os\n",
    "import time\n",
    "from tqdm import tqdm\n",
    "import base64\n",
    "import vertexai\n",
    "from vertexai.generative_models import GenerativeModel, Part, FinishReason\n",
    "import vertexai.preview.generative_models as generative_models\n",
    "from google.api_core.exceptions import InternalServerError, ResourceExhausted\n",
    "import json\n",
    "from tqdm.auto import tqdm\n",
    "import re\n",
    "import tiktoken\n",
    "tqdm.pandas()"
   ]
  },
  {
   "cell_type": "code",
   "execution_count": 2,
   "id": "1997c02e-ed33-4b3f-9bfa-83968b6346d7",
   "metadata": {},
   "outputs": [],
   "source": [
    "vertexai.init(project=\"yolo-410704\", location=\"us-central1\")\n",
    "gemini_pro_long = GenerativeModel(\"gemini-1.5-pro-preview-0409\")\n",
    "gemini_pro = GenerativeModel(\"gemini-pro\")"
   ]
  },
  {
   "cell_type": "code",
   "execution_count": 3,
   "id": "66e03ab5-e281-4b36-a290-ebd8ac3a4d02",
   "metadata": {},
   "outputs": [],
   "source": [
    "dfs = []\n",
    "\n",
    "\n",
    "def read_file(file):\n",
    "    try:\n",
    "        return open(directory + file + \".txt\", \"r\").read()\n",
    "    except:\n",
    "        return None\n",
    "\n",
    "\n",
    "for info_file in glob.glob(\"RusLit/**/info.csv\", recursive=True):\n",
    "    try:\n",
    "        directory = info_file[:-8]\n",
    "        info = pd.read_csv(info_file)\n",
    "        info[\"author\"] = directory.split(\"/\")[2]\n",
    "        info[\"type\"] = directory.split(\"/\")[1]\n",
    "        info[\"text\"] = info[\"name\"].map(read_file)\n",
    "        dfs.append(info)\n",
    "    except:\n",
    "        pass\n",
    "\n",
    "df = pd.concat(dfs, ignore_index=True).dropna()\n",
    "df[\"year\"] = (\n",
    "    df[\"year\"].astype(str).map(lambda x: x.split(\"-\")[0].split(\".\")[0]).astype(int)\n",
    ")\n",
    "df = df.dropna()"
   ]
  },
  {
   "cell_type": "code",
   "execution_count": 31,
   "id": "63fb43bb-3cfd-489b-a486-35cdb56ab508",
   "metadata": {},
   "outputs": [
    {
     "data": {
      "application/vnd.jupyter.widget-view+json": {
       "model_id": "c1f8a31d6e5b48df91177dc3abb2db31",
       "version_major": 2,
       "version_minor": 0
      },
      "text/plain": [
       "  0%|          | 0/68 [00:00<?, ?it/s]"
      ]
     },
     "metadata": {},
     "output_type": "display_data"
    },
    {
     "name": "stdout",
     "output_type": "stream",
     "text": [
      "Анна Каренина 866231\n",
      "Война и мир. Том 1 400775\n",
      "Война и мир. Том 2 418988\n",
      "Война и мир. Том 3 443668\n",
      "Война и мир. Том 4 427155\n",
      "Воскресение 438084\n",
      "Детство 93667\n",
      "Казаки 147503\n",
      "Крейцерова соната 73834\n",
      "Отрочество 71896\n",
      "Семейное счастье 79661\n",
      "Хаджи-Мурат 115360\n",
      "Юность 152104\n"
     ]
    },
    {
     "name": "stderr",
     "output_type": "stream",
     "text": [
      "/var/folders/k6/ysy9mpp90lq6zhz2s2qvv23r0000gn/T/ipykernel_59490/722675457.py:10: SettingWithCopyWarning: \n",
      "A value is trying to be set on a copy of a slice from a DataFrame.\n",
      "Try using .loc[row_indexer,col_indexer] = value instead\n",
      "\n",
      "See the caveats in the documentation: https://pandas.pydata.org/pandas-docs/stable/user_guide/indexing.html#returning-a-view-versus-a-copy\n",
      "  df_tolstoy[\"generate\"] = df_tolstoy.progress_apply(try_generate, axis=1)\n"
     ]
    }
   ],
   "source": [
    "enc = tiktoken.encoding_for_model(\"gpt-4\")\n",
    "def try_generate(row):\n",
    "    if len(enc.encode(row[\"text\"])) < 64000:\n",
    "        return True\n",
    "    else:\n",
    "        print(row[\"name\"], len(enc.encode(row[\"text\"])))\n",
    "        return False\n",
    "\n",
    "df_tolstoy = df[df[\"author\"] == \"Tolstoy\"]\n",
    "df_tolstoy[\"generate\"] = df_tolstoy.progress_apply(try_generate, axis=1)\n",
    "df_tolstoy = df_tolstoy[df_tolstoy[\"generate\"] == True]\n",
    "\n",
    "records = df_tolstoy[[\"name\", \"text\"]].to_dict(orient='records')\n",
    "custom_dict = {record['name']: record['text'] for record in records}\n",
    "\n",
    "with open('tolstoy.json', 'w') as file:\n",
    "    json.dump(custom_dict, file)"
   ]
  },
  {
   "cell_type": "code",
   "execution_count": 33,
   "id": "7ac26c14-487d-42cb-be26-09c3c8869b18",
   "metadata": {},
   "outputs": [
    {
     "data": {
      "application/vnd.jupyter.widget-view+json": {
       "model_id": "0f70135c26814a05a3ce5ce14da83e97",
       "version_major": 2,
       "version_minor": 0
      },
      "text/plain": [
       "  0%|          | 0/76 [00:00<?, ?it/s]"
      ]
     },
     "metadata": {},
     "output_type": "display_data"
    },
    {
     "name": "stdout",
     "output_type": "stream",
     "text": [
      "Дуэль 96846\n"
     ]
    },
    {
     "name": "stderr",
     "output_type": "stream",
     "text": [
      "/var/folders/k6/ysy9mpp90lq6zhz2s2qvv23r0000gn/T/ipykernel_59490/2111054261.py:10: SettingWithCopyWarning: \n",
      "A value is trying to be set on a copy of a slice from a DataFrame.\n",
      "Try using .loc[row_indexer,col_indexer] = value instead\n",
      "\n",
      "See the caveats in the documentation: https://pandas.pydata.org/pandas-docs/stable/user_guide/indexing.html#returning-a-view-versus-a-copy\n",
      "  df_chekhov[\"generate\"] = df_chekhov.progress_apply(try_generate, axis=1)\n"
     ]
    }
   ],
   "source": [
    "enc = tiktoken.encoding_for_model(\"gpt-4\")\n",
    "def try_generate(row):\n",
    "    if len(enc.encode(row[\"text\"])) < 64000:\n",
    "        return True\n",
    "    else:\n",
    "        print(row[\"name\"], len(enc.encode(row[\"text\"])))\n",
    "        return False\n",
    "\n",
    "df_chekhov = df[df[\"author\"] == \"Chekhov\"]\n",
    "df_chekhov[\"generate\"] = df_chekhov.progress_apply(try_generate, axis=1)\n",
    "df_chekhov = df_chekhov[df_chekhov[\"generate\"] == True]\n",
    "\n",
    "records = df_chekhov[[\"name\", \"text\"]].to_dict(orient='records')\n",
    "custom_dict = {record['name']: record['text'] for record in records}\n",
    "\n",
    "with open('chekhov.json', 'w') as file:\n",
    "    json.dump(custom_dict, file)"
   ]
  },
  {
   "cell_type": "code",
   "execution_count": null,
   "id": "41f10e69-a59b-4e20-993a-a188667fac63",
   "metadata": {},
   "outputs": [],
   "source": [
    "retry_limit = 5\n",
    "\n",
    "\n",
    "def get_genres(text, name):\n",
    "    try:\n",
    "        for attempt in range(retry_limit):\n",
    "            try:\n",
    "                return (\n",
    "                    gemini_pro_long.generate_content(\n",
    "                        text\n",
    "                        + \"Please provide a comma-separated list of single-word genres that best describe the text above: \"\n",
    "                    )\n",
    "                    .candidates[0]\n",
    "                    .content.parts[0]\n",
    "                    .text\n",
    "                )\n",
    "            except ResourceExhausted:\n",
    "                time.sleep(60)\n",
    "    except InternalServerError:\n",
    "        print(f\"InternalServerError on {name} text\")\n",
    "    except IndexError:\n",
    "        print(f\"IndexError on {name} text\")\n",
    "    for attempt in range(retry_limit):\n",
    "        try:\n",
    "            return (\n",
    "                gemini_pro_long.generate_content(\n",
    "                    name\n",
    "                    + \"Please provide a comma-separated list of single-word genres that best describe the text above: \"\n",
    "                )\n",
    "                .candidates[0]\n",
    "                .content.parts[0]\n",
    "                .text\n",
    "            )\n",
    "        except ResourceExhausted:\n",
    "            time.sleep(60)\n",
    "    print(f\"failed on {name}\")\n",
    "    return None\n",
    "\n",
    "\n",
    "try:\n",
    "    df = pd.read_csv(\"gemini.csv\")\n",
    "except:\n",
    "    df[\"genres\"] = [\n",
    "        get_genres(text, title)\n",
    "        for text, title in tqdm(zip(df[\"text\"], df[\"name\"]), desc=\"Generating genres\")\n",
    "    ]\n",
    "    df.to_csv(\"gemini.csv\", index=False)"
   ]
  },
  {
   "cell_type": "code",
   "execution_count": null,
   "id": "c24149e7-da25-4cf6-b711-6de06c499e5d",
   "metadata": {},
   "outputs": [],
   "source": [
    "df = df.dropna()\n",
    "df[\"genres\"] = df[\"genres\"].map(lambda x: x.strip().lower().split(\", \"))"
   ]
  },
  {
   "cell_type": "code",
   "execution_count": null,
   "id": "c85564e2-e453-4c6d-98bc-0ee41fbeaf4b",
   "metadata": {},
   "outputs": [],
   "source": [
    "df_explode = df.explode(\"genres\")\n",
    "df_explode = df_explode[df_explode[\"genres\"] != \"\"]\n",
    "genre_trends = df_explode.groupby([\"year\", \"genres\"]).size().unstack(fill_value=0)\n",
    "filtered_genre_trends = genre_trends[genre_trends.sum().sort_values()[-10:].index]\n",
    "percentage_filtered_genre_trends = (\n",
    "    filtered_genre_trends.divide(filtered_genre_trends.sum(axis=1), axis=0) * 100\n",
    ")\n",
    "percentage_filtered_genre_trends.dropna()\n",
    "percentage_filtered_genre_trends = percentage_filtered_genre_trends.reset_index()\n",
    "melted_percentage_filtered_genre_trends = percentage_filtered_genre_trends.melt(\n",
    "    id_vars=\"year\", var_name=\"genre\", value_name=\"popularity\"\n",
    ")"
   ]
  },
  {
   "cell_type": "code",
   "execution_count": null,
   "id": "6169f510-454b-499b-9706-042e1beacc31",
   "metadata": {},
   "outputs": [],
   "source": [
    "so.Plot(\n",
    "    melted_percentage_filtered_genre_trends, \"year\", \"popularity\", color=\"genre\"\n",
    ").add(so.Area(alpha=0.7), so.Stack())"
   ]
  },
  {
   "cell_type": "code",
   "execution_count": null,
   "id": "fd64bd38-368a-4e60-8a5e-183f562727c1",
   "metadata": {},
   "outputs": [],
   "source": [
    "window_size = 7\n",
    "\n",
    "melted_percentage_filtered_genre_trends[\"popularity_smoothed\"] = (\n",
    "    melted_percentage_filtered_genre_trends.groupby(\"genre\")[\"popularity\"].transform(\n",
    "        lambda x: x.rolling(window=window_size, center=True).mean()\n",
    "    )\n",
    ")\n",
    "\n",
    "so.Plot(\n",
    "    melted_percentage_filtered_genre_trends,\n",
    "    \"year\",\n",
    "    \"popularity_smoothed\",\n",
    "    color=\"genre\",\n",
    ").add(so.Area(alpha=0.7), so.Stack()).layout(size=(16, 9)).save(\n",
    "    \"gemini.png\", bbox_inches=\"tight\"\n",
    ")"
   ]
  },
  {
   "cell_type": "code",
   "execution_count": null,
   "id": "1c7ae00a-cd89-4a9d-9bf4-a77eeffb7e91",
   "metadata": {},
   "outputs": [],
   "source": [
    "# gemini_pro_long.generate_content(\n",
    "#     \"\\\"The play portrays the visit of an elderly professor and his glamorous, much younger second wife, Yelena, to the rural estate that supports their urban lifestyle. Two friends—Vanya, brother of the professor's late first wife, who has long managed the estate, and Astrov, the local doctor—both fall under Yelena's spell while bemoaning the ennui of their provincial existence. Sonya, the professor's daughter by his first wife, who has worked with Vanya to keep the estate going, suffers from her unrequited feelings for Astrov. Matters are brought to a crisis when the professor announces his intention to sell the estate, Vanya and Sonya's home, with a view to investing the proceeds to achieve a higher income for himself and his wife.\\\"\\nRepeat each sentance with a catigorization after: horror short story humor social commentary satire fiction historical tragedy romance drama\"\n",
    "# ).candidates[0].content.parts[0].text"
   ]
  },
  {
   "cell_type": "code",
   "execution_count": null,
   "id": "2f0471b2-a2d0-46bb-87c0-af6b473e1dd2",
   "metadata": {},
   "outputs": [],
   "source": [
    "# gemini_pro_long.generate_content(\n",
    "#     \"\\\"The play portrays the visit of an elderly professor and his glamorous, much younger second wife, Yelena, to the rural estate that supports their urban lifestyle. Two friends—Vanya, brother of the professor's late first wife, who has long managed the estate, and Astrov, the local doctor—both fall under Yelena's spell while bemoaning the ennui of their provincial existence. Sonya, the professor's daughter by his first wife, who has worked with Vanya to keep the estate going, suffers from her unrequited feelings for Astrov. Matters are brought to a crisis when the professor announces his intention to sell the estate, Vanya and Sonya's home, with a view to investing the proceeds to achieve a higher income for himself and his wife.\\\"\\nRewrite the abstract like Uncle Vanya was a political commentary satire of Russia in 1870:\"\n",
    "# ).candidates[0].content.parts[0].text"
   ]
  }
 ],
 "metadata": {
  "kernelspec": {
   "display_name": "Python 3 (ipykernel)",
   "language": "python",
   "name": "python3"
  },
  "language_info": {
   "codemirror_mode": {
    "name": "ipython",
    "version": 3
   },
   "file_extension": ".py",
   "mimetype": "text/x-python",
   "name": "python",
   "nbconvert_exporter": "python",
   "pygments_lexer": "ipython3",
   "version": "3.12.3"
  }
 },
 "nbformat": 4,
 "nbformat_minor": 5
}
